{
 "cells": [
  {
   "cell_type": "markdown",
   "id": "7e7ead9a",
   "metadata": {},
   "source": [
    "##### python imports"
   ]
  },
  {
   "cell_type": "code",
   "execution_count": 1,
   "id": "c9adecca",
   "metadata": {},
   "outputs": [],
   "source": [
    "import pandas as pd\n",
    "from string import ascii_lowercase"
   ]
  },
  {
   "cell_type": "markdown",
   "id": "f3818a9b",
   "metadata": {},
   "source": [
    "### Lecture 1 - What is a Series?"
   ]
  },
  {
   "cell_type": "code",
   "execution_count": 2,
   "id": "6b475497",
   "metadata": {},
   "outputs": [],
   "source": [
    "students = ['Ivan', 'Peter', 'Maria']"
   ]
  },
  {
   "cell_type": "code",
   "execution_count": 3,
   "id": "2f5ab1d2",
   "metadata": {},
   "outputs": [
    {
     "data": {
      "text/plain": [
       "list"
      ]
     },
     "execution_count": 3,
     "metadata": {},
     "output_type": "execute_result"
    }
   ],
   "source": [
    "type(students)"
   ]
  },
  {
   "cell_type": "code",
   "execution_count": 4,
   "id": "1c5c74cf",
   "metadata": {},
   "outputs": [
    {
     "data": {
      "text/plain": [
       "0     Ivan\n",
       "1    Peter\n",
       "2    Maria\n",
       "dtype: object"
      ]
     },
     "execution_count": 4,
     "metadata": {},
     "output_type": "execute_result"
    }
   ],
   "source": [
    "pd.Series(students)"
   ]
  },
  {
   "cell_type": "code",
   "execution_count": 5,
   "id": "3f21cca5",
   "metadata": {},
   "outputs": [
    {
     "data": {
      "text/plain": [
       "0    20\n",
       "1    18\n",
       "2    14\n",
       "dtype: int64"
      ]
     },
     "execution_count": 5,
     "metadata": {},
     "output_type": "execute_result"
    }
   ],
   "source": [
    "ages = [20, 18, 14]\n",
    "pd.Series(ages)"
   ]
  },
  {
   "cell_type": "code",
   "execution_count": 6,
   "id": "4385ba3b",
   "metadata": {},
   "outputs": [
    {
     "data": {
      "text/plain": [
       "0    180.2\n",
       "1    178.5\n",
       "2    156.3\n",
       "dtype: float64"
      ]
     },
     "execution_count": 6,
     "metadata": {},
     "output_type": "execute_result"
    }
   ],
   "source": [
    "heights = [180.2, 178.5, 156.3]\n",
    "pd.Series(heights)"
   ]
  },
  {
   "cell_type": "code",
   "execution_count": 7,
   "id": "d7abdca1",
   "metadata": {},
   "outputs": [
    {
     "data": {
      "text/plain": [
       "0            True\n",
       "1           Hello\n",
       "2    {'key': 100}\n",
       "3               5\n",
       "4             6.7\n",
       "5       [1, 2, 3]\n",
       "dtype: object"
      ]
     },
     "execution_count": 7,
     "metadata": {},
     "output_type": "execute_result"
    }
   ],
   "source": [
    "mixed_data = [True, 'Hello', {'key': 100}, 5, 6.7, [1, 2, 3]]\n",
    "pd.Series(mixed_data)"
   ]
  },
  {
   "cell_type": "markdown",
   "id": "c7644769",
   "metadata": {},
   "source": [
    "### Lecture 2 - Parameters vs Arguments"
   ]
  },
  {
   "cell_type": "code",
   "execution_count": 8,
   "id": "e988afdf",
   "metadata": {
    "scrolled": true
   },
   "outputs": [
    {
     "data": {
      "text/plain": [
       "0     Ivan\n",
       "1    Peter\n",
       "2    Maria\n",
       "dtype: object"
      ]
     },
     "execution_count": 8,
     "metadata": {},
     "output_type": "execute_result"
    }
   ],
   "source": [
    "pd.Series(data=students)"
   ]
  },
  {
   "cell_type": "code",
   "execution_count": 9,
   "id": "9f12495c",
   "metadata": {},
   "outputs": [
    {
     "name": "stdout",
     "output_type": "stream",
     "text": [
      "argument\n"
     ]
    }
   ],
   "source": [
    "# General programming terminology:\n",
    "# data -> method or function definition (parameter)\n",
    "# students -> python list which its passed as value (argument)\n",
    "# example\n",
    "def functon(parameter):\n",
    "    print(parameter)\n",
    "functon('argument')"
   ]
  },
  {
   "cell_type": "markdown",
   "id": "f23cb3ff",
   "metadata": {},
   "source": [
    "### Lecture 3 - What is The Data?"
   ]
  },
  {
   "cell_type": "code",
   "execution_count": 10,
   "id": "cf0fcd47",
   "metadata": {},
   "outputs": [
    {
     "data": {
      "text/plain": [
       "0    book_1\n",
       "1    book_2\n",
       "2    book_3\n",
       "dtype: object"
      ]
     },
     "execution_count": 10,
     "metadata": {},
     "output_type": "execute_result"
    }
   ],
   "source": [
    "book_list = ['book_1', 'book_2', 'book_3']\n",
    "pd.Series(book_list)"
   ]
  },
  {
   "cell_type": "code",
   "execution_count": 11,
   "id": "18914d6a",
   "metadata": {},
   "outputs": [
    {
     "data": {
      "text/plain": [
       "0    book_1\n",
       "1    book_2\n",
       "2    book_3\n",
       "dtype: object"
      ]
     },
     "execution_count": 11,
     "metadata": {},
     "output_type": "execute_result"
    }
   ],
   "source": [
    "book_dict = {0:'book_1', 1: 'book_2', 2: 'book_3'}\n",
    "pd.Series(book_dict)"
   ]
  },
  {
   "cell_type": "code",
   "execution_count": 12,
   "id": "58f78cdc",
   "metadata": {
    "scrolled": true
   },
   "outputs": [
    {
     "data": {
      "text/plain": [
       "True"
      ]
     },
     "execution_count": 12,
     "metadata": {},
     "output_type": "execute_result"
    }
   ],
   "source": [
    "list_s = pd.Series(book_list)\n",
    "dict_s = pd.Series(book_dict)\n",
    "list_s.equals(dict_s)"
   ]
  },
  {
   "cell_type": "markdown",
   "id": "151bbb08",
   "metadata": {},
   "source": [
    "### Lecture 4 - The .dtype Attribute"
   ]
  },
  {
   "cell_type": "code",
   "execution_count": 13,
   "id": "2f3b61b8",
   "metadata": {},
   "outputs": [
    {
     "data": {
      "text/plain": [
       "0    20\n",
       "1    18\n",
       "2    14\n",
       "dtype: int64"
      ]
     },
     "execution_count": 13,
     "metadata": {},
     "output_type": "execute_result"
    }
   ],
   "source": [
    "pd.Series(ages)"
   ]
  },
  {
   "cell_type": "code",
   "execution_count": 14,
   "id": "594e9683",
   "metadata": {},
   "outputs": [
    {
     "data": {
      "text/plain": [
       "0    20.0\n",
       "1    18.0\n",
       "2    14.0\n",
       "dtype: float64"
      ]
     },
     "execution_count": 14,
     "metadata": {},
     "output_type": "execute_result"
    }
   ],
   "source": [
    "pd.Series(ages, dtype=float)"
   ]
  },
  {
   "cell_type": "code",
   "execution_count": 15,
   "id": "77d72047",
   "metadata": {
    "scrolled": true
   },
   "outputs": [
    {
     "data": {
      "text/plain": [
       "0    20\n",
       "1    18\n",
       "2    14\n",
       "dtype: object"
      ]
     },
     "execution_count": 15,
     "metadata": {},
     "output_type": "execute_result"
    }
   ],
   "source": [
    "pd.Series(ages, dtype=str)"
   ]
  },
  {
   "cell_type": "markdown",
   "id": "902e34ed",
   "metadata": {},
   "source": [
    "### BONUS: What is dtype('o'), Really?"
   ]
  },
  {
   "cell_type": "code",
   "execution_count": 16,
   "id": "754b96bd",
   "metadata": {},
   "outputs": [
    {
     "data": {
      "text/plain": [
       "0    180.2\n",
       "1    178.5\n",
       "2    156.3\n",
       "dtype: float64"
      ]
     },
     "execution_count": 16,
     "metadata": {},
     "output_type": "execute_result"
    }
   ],
   "source": [
    "pd.Series(heights)"
   ]
  },
  {
   "cell_type": "code",
   "execution_count": 17,
   "id": "880afef3",
   "metadata": {
    "scrolled": true
   },
   "outputs": [
    {
     "data": {
      "text/plain": [
       "0    180.2\n",
       "1    178.5\n",
       "2    156.3\n",
       "dtype: object"
      ]
     },
     "execution_count": 17,
     "metadata": {},
     "output_type": "execute_result"
    }
   ],
   "source": [
    "# from NumPy -> if one of the value is object, pandas will keep the data with index in the memory\n",
    "heights_2 = [180.2, '178.5', 156.3]\n",
    "pd.Series(heights_2)"
   ]
  },
  {
   "cell_type": "markdown",
   "id": "f0a2abf4",
   "metadata": {},
   "source": [
    "### Lecture 5 - Index and RangeIndex"
   ]
  },
  {
   "cell_type": "code",
   "execution_count": 18,
   "id": "333ca205",
   "metadata": {
    "scrolled": true
   },
   "outputs": [
    {
     "data": {
      "text/plain": [
       "first_book     book_1\n",
       "second_book    book_2\n",
       "third_book     book_3\n",
       "dtype: object"
      ]
     },
     "execution_count": 18,
     "metadata": {},
     "output_type": "execute_result"
    }
   ],
   "source": [
    "pd.Series(data=book_list, index=['first_book', 'second_book', 'third_book'])"
   ]
  },
  {
   "cell_type": "code",
   "execution_count": 19,
   "id": "c795148d",
   "metadata": {},
   "outputs": [
    {
     "data": {
      "text/plain": [
       "'1.3.2'"
      ]
     },
     "execution_count": 19,
     "metadata": {},
     "output_type": "execute_result"
    }
   ],
   "source": [
    "pd.__version__"
   ]
  },
  {
   "cell_type": "code",
   "execution_count": 20,
   "id": "56384e5e",
   "metadata": {
    "scrolled": true
   },
   "outputs": [
    {
     "data": {
      "text/plain": [
       "first_book     book_1\n",
       "second_book    book_2\n",
       "third_book     book_3\n",
       "dtype: string"
      ]
     },
     "execution_count": 20,
     "metadata": {},
     "output_type": "execute_result"
    }
   ],
   "source": [
    "# After version 1.0.0, pandas has string dtype\n",
    "pd.Series(data=book_list, index=['first_book', 'second_book', 'third_book'], dtype='string')"
   ]
  },
  {
   "cell_type": "code",
   "execution_count": 21,
   "id": "857d9fcc",
   "metadata": {
    "scrolled": true
   },
   "outputs": [
    {
     "data": {
      "text/plain": [
       "RangeIndex(start=0, stop=3, step=1)"
      ]
     },
     "execution_count": 21,
     "metadata": {},
     "output_type": "execute_result"
    }
   ],
   "source": [
    "list_s.index\n",
    "# its a range index"
   ]
  },
  {
   "cell_type": "code",
   "execution_count": 22,
   "id": "b7e51427",
   "metadata": {
    "scrolled": true
   },
   "outputs": [
    {
     "data": {
      "text/plain": [
       "pandas.core.indexes.range.RangeIndex"
      ]
     },
     "execution_count": 22,
     "metadata": {},
     "output_type": "execute_result"
    }
   ],
   "source": [
    "type(list_s.index)"
   ]
  },
  {
   "cell_type": "code",
   "execution_count": 23,
   "id": "6c968ddb",
   "metadata": {
    "scrolled": true
   },
   "outputs": [
    {
     "data": {
      "text/plain": [
       "[5, 8, 11, 14]"
      ]
     },
     "execution_count": 23,
     "metadata": {},
     "output_type": "execute_result"
    }
   ],
   "source": [
    "# lets create our own range of indexes\n",
    "pd.RangeIndex(start=5, stop=15, step=3)\n",
    "# must cast to list to see the result\n",
    "list(pd.RangeIndex(start=5, stop=15, step=3))"
   ]
  },
  {
   "cell_type": "code",
   "execution_count": 24,
   "id": "b221c2da",
   "metadata": {
    "scrolled": true
   },
   "outputs": [
    {
     "data": {
      "text/plain": [
       "[10, 9, 8, 7, 6, 5, 4, 3, 2, 1, 0, -1, -2, -3, -4, -5, -6, -7, -8, -9, -10]"
      ]
     },
     "execution_count": 24,
     "metadata": {},
     "output_type": "execute_result"
    }
   ],
   "source": [
    "# start is inclusive, but stop is exclusive\n",
    "list(pd.RangeIndex(start=10, stop=-11, step=-1))"
   ]
  },
  {
   "cell_type": "markdown",
   "id": "dc25a605",
   "metadata": {},
   "source": [
    "### Lecture 6 - Series and Index Names"
   ]
  },
  {
   "cell_type": "code",
   "execution_count": 25,
   "id": "6e66ba00",
   "metadata": {
    "scrolled": true
   },
   "outputs": [
    {
     "data": {
      "text/plain": [
       "0    book_1\n",
       "1    book_2\n",
       "2    book_3\n",
       "dtype: object"
      ]
     },
     "execution_count": 25,
     "metadata": {},
     "output_type": "execute_result"
    }
   ],
   "source": [
    "#inetilligble -> capable of being understood\n",
    "book_series = list_s\n",
    "book_series"
   ]
  },
  {
   "cell_type": "code",
   "execution_count": 26,
   "id": "745cd3db",
   "metadata": {},
   "outputs": [
    {
     "data": {
      "text/plain": [
       "True"
      ]
     },
     "execution_count": 26,
     "metadata": {},
     "output_type": "execute_result"
    }
   ],
   "source": [
    "# method is a function bound to the object\n",
    "list_s.equals(dict_s)"
   ]
  },
  {
   "cell_type": "code",
   "execution_count": 27,
   "id": "23c58872",
   "metadata": {
    "scrolled": true
   },
   "outputs": [
    {
     "data": {
      "text/plain": [
       "3"
      ]
     },
     "execution_count": 27,
     "metadata": {},
     "output_type": "execute_result"
    }
   ],
   "source": [
    "# attribute is a varible bound to the object\n",
    "book_series.size"
   ]
  },
  {
   "cell_type": "code",
   "execution_count": 28,
   "id": "1532032a",
   "metadata": {},
   "outputs": [],
   "source": [
    "# the name attribute is pointing to None obj\n",
    "book_series.name"
   ]
  },
  {
   "cell_type": "code",
   "execution_count": 29,
   "id": "a06d22bf",
   "metadata": {
    "scrolled": true
   },
   "outputs": [
    {
     "data": {
      "text/plain": [
       "True"
      ]
     },
     "execution_count": 29,
     "metadata": {},
     "output_type": "execute_result"
    }
   ],
   "source": [
    "# if it comapre to None ...\n",
    "book_series.name == None"
   ]
  },
  {
   "cell_type": "code",
   "execution_count": 30,
   "id": "4f64dcba",
   "metadata": {
    "scrolled": true
   },
   "outputs": [
    {
     "data": {
      "text/plain": [
       "0    book_1\n",
       "1    book_2\n",
       "2    book_3\n",
       "Name: my books, dtype: object"
      ]
     },
     "execution_count": 30,
     "metadata": {},
     "output_type": "execute_result"
    }
   ],
   "source": [
    "# we could give it a name\n",
    "book_series.name = 'my books'\n",
    "book_series\n",
    "# after we learn about dataFrame, we will see that the name of the Series will come ...\n",
    "# with the name of the column of the dataFrame"
   ]
  },
  {
   "cell_type": "code",
   "execution_count": 31,
   "id": "ec852bd5",
   "metadata": {},
   "outputs": [
    {
     "data": {
      "text/plain": [
       "True"
      ]
     },
     "execution_count": 31,
     "metadata": {},
     "output_type": "execute_result"
    }
   ],
   "source": [
    "# the same is with the indexes of the Series\n",
    "book_series.index.name == None"
   ]
  },
  {
   "cell_type": "code",
   "execution_count": 32,
   "id": "c67f5948",
   "metadata": {
    "scrolled": true
   },
   "outputs": [
    {
     "data": {
      "text/plain": [
       "index names\n",
       "0    book_1\n",
       "1    book_2\n",
       "2    book_3\n",
       "Name: my books, dtype: object"
      ]
     },
     "execution_count": 32,
     "metadata": {},
     "output_type": "execute_result"
    }
   ],
   "source": [
    "book_series.index.name = 'index names'\n",
    "book_series"
   ]
  },
  {
   "cell_type": "markdown",
   "id": "a48b8979",
   "metadata": {},
   "source": [
    "### Lecture 7 - Skill Chalenge"
   ]
  },
  {
   "cell_type": "code",
   "execution_count": 33,
   "id": "711db4da",
   "metadata": {},
   "outputs": [
    {
     "data": {
      "text/plain": [
       "Actor1    25\n",
       "Actor2    35\n",
       "Actor3    45\n",
       "Actor4    55\n",
       "dtype: int64"
      ]
     },
     "execution_count": 33,
     "metadata": {},
     "output_type": "execute_result"
    }
   ],
   "source": [
    "# 1. Python list with len=4 with favorite actors\n",
    "actor_names = ['Actor1', 'Actor2', 'Actor3', 'Actor4',]\n",
    "# 2. Python list with len=4 with actors ages\n",
    "actor_ages = [25, 35, 45, 55]\n",
    "# 3. Series that stores actor ages and for index (labels) are useing actor names\n",
    "actor_series = pd.Series(data=actor_ages, index=actor_names)\n",
    "actor_series"
   ]
  },
  {
   "cell_type": "code",
   "execution_count": 34,
   "id": "1c530ead",
   "metadata": {},
   "outputs": [
    {
     "data": {
      "text/plain": [
       "Actor1    25\n",
       "Actor2    35\n",
       "Actor3    45\n",
       "Actor4    55\n",
       "dtype: int64"
      ]
     },
     "execution_count": 34,
     "metadata": {},
     "output_type": "execute_result"
    }
   ],
   "source": [
    "# 4. Repeat p.3 but with python dict. Try to not write the dict by hand, but dynamically\n",
    "# 1st var -> using zip (the keys are indexes, and vals are values)\n",
    "actor_dict_1 = dict(zip(actor_names, actor_ages))\n",
    "actor_series_dict_1 = pd.Series(actor_dict_1)\n",
    "actor_series_dict_1"
   ]
  },
  {
   "cell_type": "code",
   "execution_count": 35,
   "id": "b2bb4cee",
   "metadata": {
    "scrolled": true
   },
   "outputs": [
    {
     "data": {
      "text/plain": [
       "Actor1    25\n",
       "Actor2    35\n",
       "Actor3    45\n",
       "Actor4    55\n",
       "dtype: int64"
      ]
     },
     "execution_count": 35,
     "metadata": {},
     "output_type": "execute_result"
    }
   ],
   "source": [
    "# 4.\n",
    "# 2st var -> using dict comprehension\n",
    "# actor_dict_2 = {actor_names[i]: actor_ages[i] for i in range(len(actor_names))}\n",
    "actor_dict_2 = {name: age for name, age in zip(actor_names, actor_ages)}\n",
    "actor_series_dict_2 = pd.Series(actor_dict_2)\n",
    "actor_series_dict_2"
   ]
  },
  {
   "cell_type": "markdown",
   "id": "4e2cbd2b",
   "metadata": {},
   "source": [
    "### Lecture 8 - The head() and tail() methods"
   ]
  },
  {
   "cell_type": "code",
   "execution_count": 36,
   "id": "f45cc234",
   "metadata": {
    "scrolled": true
   },
   "outputs": [
    {
     "data": {
      "text/plain": [
       "0          0\n",
       "1          1\n",
       "2          2\n",
       "3          3\n",
       "4          4\n",
       "        ... \n",
       "9995    9995\n",
       "9996    9996\n",
       "9997    9997\n",
       "9998    9998\n",
       "9999    9999\n",
       "Length: 10000, dtype: int64"
      ]
     },
     "execution_count": 36,
     "metadata": {},
     "output_type": "execute_result"
    }
   ],
   "source": [
    "int_series = pd.Series(i for i in range(10000))\n",
    "int_series"
   ]
  },
  {
   "cell_type": "code",
   "execution_count": 37,
   "id": "3fb6c21b",
   "metadata": {
    "scrolled": true
   },
   "outputs": [
    {
     "data": {
      "text/plain": [
       "0          0\n",
       "1          1\n",
       "2          2\n",
       "3          3\n",
       "4          4\n",
       "        ... \n",
       "9995    9995\n",
       "9996    9996\n",
       "9997    9997\n",
       "9998    9998\n",
       "9999    9999\n",
       "Length: 10000, dtype: int64"
      ]
     },
     "execution_count": 37,
     "metadata": {},
     "output_type": "execute_result"
    }
   ],
   "source": [
    "# it can be done only with range\n",
    "int_series_2 = pd.Series(range(10000))\n",
    "int_series_2"
   ]
  },
  {
   "cell_type": "code",
   "execution_count": 38,
   "id": "f7ba74b2",
   "metadata": {
    "scrolled": true
   },
   "outputs": [
    {
     "data": {
      "text/plain": [
       "0    0\n",
       "1    1\n",
       "2    2\n",
       "3    3\n",
       "4    4\n",
       "dtype: int64"
      ]
     },
     "execution_count": 38,
     "metadata": {},
     "output_type": "execute_result"
    }
   ],
   "source": [
    "# to see the first 5 rows\n",
    "int_series.head()"
   ]
  },
  {
   "cell_type": "code",
   "execution_count": 39,
   "id": "66ea2eaf",
   "metadata": {
    "scrolled": true
   },
   "outputs": [
    {
     "data": {
      "text/plain": [
       "0    0\n",
       "1    1\n",
       "2    2\n",
       "dtype: int64"
      ]
     },
     "execution_count": 39,
     "metadata": {},
     "output_type": "execute_result"
    }
   ],
   "source": [
    "# if you want to see certian number of first rows\n",
    "int_series.head(3)"
   ]
  },
  {
   "cell_type": "code",
   "execution_count": 40,
   "id": "7c81b97d",
   "metadata": {},
   "outputs": [
    {
     "data": {
      "text/plain": [
       "9995    9995\n",
       "9996    9996\n",
       "9997    9997\n",
       "9998    9998\n",
       "9999    9999\n",
       "dtype: int64"
      ]
     },
     "execution_count": 40,
     "metadata": {},
     "output_type": "execute_result"
    }
   ],
   "source": [
    "# to see the last five rows\n",
    "int_series_2.tail()"
   ]
  },
  {
   "cell_type": "code",
   "execution_count": 41,
   "id": "5caed896",
   "metadata": {
    "scrolled": true
   },
   "outputs": [
    {
     "data": {
      "text/plain": [
       "9997    9997\n",
       "9998    9998\n",
       "9999    9999\n",
       "dtype: int64"
      ]
     },
     "execution_count": 41,
     "metadata": {},
     "output_type": "execute_result"
    }
   ],
   "source": [
    "# if you want to see the certian number of last rows\n",
    "int_series_2.tail(3)"
   ]
  },
  {
   "cell_type": "code",
   "execution_count": 42,
   "id": "f82e84ef",
   "metadata": {},
   "outputs": [],
   "source": [
    "# we can use options to desplay certian rows, but its not useful\n",
    "# pd.options.display.min_rows = 20"
   ]
  },
  {
   "cell_type": "markdown",
   "id": "30dd91f9",
   "metadata": {},
   "source": [
    "### Lecture 9 - Extracting by Index Position"
   ]
  },
  {
   "cell_type": "code",
   "execution_count": 43,
   "id": "6804edf2",
   "metadata": {
    "scrolled": true
   },
   "outputs": [
    {
     "data": {
      "text/plain": [
       "26"
      ]
     },
     "execution_count": 43,
     "metadata": {},
     "output_type": "execute_result"
    }
   ],
   "source": [
    "letters = list(ascii_lowercase)\n",
    "len(letters)"
   ]
  },
  {
   "cell_type": "code",
   "execution_count": 44,
   "id": "a3586525",
   "metadata": {},
   "outputs": [
    {
     "data": {
      "text/plain": [
       "0    a\n",
       "1    b\n",
       "2    c\n",
       "3    d\n",
       "4    e\n",
       "dtype: object"
      ]
     },
     "execution_count": 44,
     "metadata": {},
     "output_type": "execute_result"
    }
   ],
   "source": [
    "alphabet = pd.Series(letters)\n",
    "alphabet.head()"
   ]
  },
  {
   "cell_type": "code",
   "execution_count": 45,
   "id": "4bfa088e",
   "metadata": {},
   "outputs": [
    {
     "data": {
      "text/plain": [
       "'a'"
      ]
     },
     "execution_count": 45,
     "metadata": {},
     "output_type": "execute_result"
    }
   ],
   "source": [
    "alphabet[0]"
   ]
  },
  {
   "cell_type": "code",
   "execution_count": 46,
   "id": "e1e4cc03",
   "metadata": {},
   "outputs": [
    {
     "data": {
      "text/plain": [
       "'k'"
      ]
     },
     "execution_count": 46,
     "metadata": {},
     "output_type": "execute_result"
    }
   ],
   "source": [
    "alphabet[10]"
   ]
  },
  {
   "cell_type": "code",
   "execution_count": 47,
   "id": "f6bb5458",
   "metadata": {},
   "outputs": [
    {
     "data": {
      "text/plain": [
       "0    a\n",
       "1    b\n",
       "2    c\n",
       "dtype: object"
      ]
     },
     "execution_count": 47,
     "metadata": {},
     "output_type": "execute_result"
    }
   ],
   "source": [
    "alphabet[:3]"
   ]
  },
  {
   "cell_type": "code",
   "execution_count": 48,
   "id": "a1c67c6f",
   "metadata": {},
   "outputs": [
    {
     "data": {
      "text/plain": [
       "20    u\n",
       "21    v\n",
       "22    w\n",
       "23    x\n",
       "24    y\n",
       "25    z\n",
       "dtype: object"
      ]
     },
     "execution_count": 48,
     "metadata": {},
     "output_type": "execute_result"
    }
   ],
   "source": [
    "alphabet[-6:]"
   ]
  }
 ],
 "metadata": {
  "kernelspec": {
   "display_name": "Python 3 (ipykernel)",
   "language": "python",
   "name": "python3"
  },
  "language_info": {
   "codemirror_mode": {
    "name": "ipython",
    "version": 3
   },
   "file_extension": ".py",
   "mimetype": "text/x-python",
   "name": "python",
   "nbconvert_exporter": "python",
   "pygments_lexer": "ipython3",
   "version": "3.8.10"
  }
 },
 "nbformat": 4,
 "nbformat_minor": 5
}
