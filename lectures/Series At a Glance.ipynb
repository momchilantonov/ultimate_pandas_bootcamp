{
 "cells": [
  {
   "cell_type": "markdown",
   "id": "7e7ead9a",
   "metadata": {},
   "source": [
    "##### python imports"
   ]
  },
  {
   "cell_type": "code",
   "execution_count": 1,
   "id": "c9adecca",
   "metadata": {},
   "outputs": [],
   "source": [
    "import pandas as pd\n",
    "from string import ascii_lowercase, ascii_uppercase"
   ]
  },
  {
   "cell_type": "markdown",
   "id": "f3818a9b",
   "metadata": {},
   "source": [
    "### Lecture 1 - What is a Series?"
   ]
  },
  {
   "cell_type": "code",
   "execution_count": 2,
   "id": "6b475497",
   "metadata": {},
   "outputs": [],
   "source": [
    "students = ['Ivan', 'Peter', 'Maria']"
   ]
  },
  {
   "cell_type": "code",
   "execution_count": 3,
   "id": "2f5ab1d2",
   "metadata": {},
   "outputs": [
    {
     "data": {
      "text/plain": [
       "list"
      ]
     },
     "execution_count": 3,
     "metadata": {},
     "output_type": "execute_result"
    }
   ],
   "source": [
    "type(students)"
   ]
  },
  {
   "cell_type": "code",
   "execution_count": 4,
   "id": "1c5c74cf",
   "metadata": {},
   "outputs": [
    {
     "data": {
      "text/plain": [
       "0     Ivan\n",
       "1    Peter\n",
       "2    Maria\n",
       "dtype: object"
      ]
     },
     "execution_count": 4,
     "metadata": {},
     "output_type": "execute_result"
    }
   ],
   "source": [
    "pd.Series(students)"
   ]
  },
  {
   "cell_type": "code",
   "execution_count": 5,
   "id": "3f21cca5",
   "metadata": {},
   "outputs": [
    {
     "data": {
      "text/plain": [
       "0    20\n",
       "1    18\n",
       "2    14\n",
       "dtype: int64"
      ]
     },
     "execution_count": 5,
     "metadata": {},
     "output_type": "execute_result"
    }
   ],
   "source": [
    "ages = [20, 18, 14]\n",
    "pd.Series(ages)"
   ]
  },
  {
   "cell_type": "code",
   "execution_count": 6,
   "id": "4385ba3b",
   "metadata": {},
   "outputs": [
    {
     "data": {
      "text/plain": [
       "0    180.2\n",
       "1    178.5\n",
       "2    156.3\n",
       "dtype: float64"
      ]
     },
     "execution_count": 6,
     "metadata": {},
     "output_type": "execute_result"
    }
   ],
   "source": [
    "heights = [180.2, 178.5, 156.3]\n",
    "pd.Series(heights)"
   ]
  },
  {
   "cell_type": "code",
   "execution_count": 7,
   "id": "d7abdca1",
   "metadata": {},
   "outputs": [
    {
     "data": {
      "text/plain": [
       "0            True\n",
       "1           Hello\n",
       "2    {'key': 100}\n",
       "3               5\n",
       "4             6.7\n",
       "5       [1, 2, 3]\n",
       "dtype: object"
      ]
     },
     "execution_count": 7,
     "metadata": {},
     "output_type": "execute_result"
    }
   ],
   "source": [
    "mixed_data = [True, 'Hello', {'key': 100}, 5, 6.7, [1, 2, 3]]\n",
    "pd.Series(mixed_data)"
   ]
  },
  {
   "cell_type": "markdown",
   "id": "c7644769",
   "metadata": {},
   "source": [
    "### Lecture 2 - Parameters vs Arguments"
   ]
  },
  {
   "cell_type": "code",
   "execution_count": 8,
   "id": "e988afdf",
   "metadata": {
    "scrolled": true
   },
   "outputs": [
    {
     "data": {
      "text/plain": [
       "0     Ivan\n",
       "1    Peter\n",
       "2    Maria\n",
       "dtype: object"
      ]
     },
     "execution_count": 8,
     "metadata": {},
     "output_type": "execute_result"
    }
   ],
   "source": [
    "pd.Series(data=students)"
   ]
  },
  {
   "cell_type": "code",
   "execution_count": 9,
   "id": "9f12495c",
   "metadata": {},
   "outputs": [
    {
     "name": "stdout",
     "output_type": "stream",
     "text": [
      "argument\n"
     ]
    }
   ],
   "source": [
    "# General programming terminology:\n",
    "# data -> method or function definition (parameter)\n",
    "# students -> python list which its passed as value (argument)\n",
    "# example\n",
    "def functon(parameter):\n",
    "    print(parameter)\n",
    "functon('argument')"
   ]
  },
  {
   "cell_type": "markdown",
   "id": "f23cb3ff",
   "metadata": {},
   "source": [
    "### Lecture 3 - What is The Data?"
   ]
  },
  {
   "cell_type": "code",
   "execution_count": 10,
   "id": "cf0fcd47",
   "metadata": {},
   "outputs": [
    {
     "data": {
      "text/plain": [
       "0    book_1\n",
       "1    book_2\n",
       "2    book_3\n",
       "dtype: object"
      ]
     },
     "execution_count": 10,
     "metadata": {},
     "output_type": "execute_result"
    }
   ],
   "source": [
    "book_list = ['book_1', 'book_2', 'book_3']\n",
    "pd.Series(book_list)"
   ]
  },
  {
   "cell_type": "code",
   "execution_count": 11,
   "id": "18914d6a",
   "metadata": {},
   "outputs": [
    {
     "data": {
      "text/plain": [
       "0    book_1\n",
       "1    book_2\n",
       "2    book_3\n",
       "dtype: object"
      ]
     },
     "execution_count": 11,
     "metadata": {},
     "output_type": "execute_result"
    }
   ],
   "source": [
    "book_dict = {0:'book_1', 1: 'book_2', 2: 'book_3'}\n",
    "pd.Series(book_dict)"
   ]
  },
  {
   "cell_type": "code",
   "execution_count": 12,
   "id": "58f78cdc",
   "metadata": {
    "scrolled": true
   },
   "outputs": [
    {
     "data": {
      "text/plain": [
       "True"
      ]
     },
     "execution_count": 12,
     "metadata": {},
     "output_type": "execute_result"
    }
   ],
   "source": [
    "list_s = pd.Series(book_list)\n",
    "dict_s = pd.Series(book_dict)\n",
    "list_s.equals(dict_s)"
   ]
  },
  {
   "cell_type": "markdown",
   "id": "151bbb08",
   "metadata": {},
   "source": [
    "### Lecture 4 - The .dtype Attribute"
   ]
  },
  {
   "cell_type": "code",
   "execution_count": 13,
   "id": "2f3b61b8",
   "metadata": {},
   "outputs": [
    {
     "data": {
      "text/plain": [
       "0    20\n",
       "1    18\n",
       "2    14\n",
       "dtype: int64"
      ]
     },
     "execution_count": 13,
     "metadata": {},
     "output_type": "execute_result"
    }
   ],
   "source": [
    "pd.Series(ages)"
   ]
  },
  {
   "cell_type": "code",
   "execution_count": 14,
   "id": "594e9683",
   "metadata": {},
   "outputs": [
    {
     "data": {
      "text/plain": [
       "0    20.0\n",
       "1    18.0\n",
       "2    14.0\n",
       "dtype: float64"
      ]
     },
     "execution_count": 14,
     "metadata": {},
     "output_type": "execute_result"
    }
   ],
   "source": [
    "pd.Series(ages, dtype=float)"
   ]
  },
  {
   "cell_type": "code",
   "execution_count": 15,
   "id": "77d72047",
   "metadata": {
    "scrolled": true
   },
   "outputs": [
    {
     "data": {
      "text/plain": [
       "0    20\n",
       "1    18\n",
       "2    14\n",
       "dtype: object"
      ]
     },
     "execution_count": 15,
     "metadata": {},
     "output_type": "execute_result"
    }
   ],
   "source": [
    "pd.Series(ages, dtype=str)"
   ]
  },
  {
   "cell_type": "markdown",
   "id": "902e34ed",
   "metadata": {},
   "source": [
    "### BONUS: What is dtype('o'), Really?"
   ]
  },
  {
   "cell_type": "code",
   "execution_count": 16,
   "id": "754b96bd",
   "metadata": {},
   "outputs": [
    {
     "data": {
      "text/plain": [
       "0    180.2\n",
       "1    178.5\n",
       "2    156.3\n",
       "dtype: float64"
      ]
     },
     "execution_count": 16,
     "metadata": {},
     "output_type": "execute_result"
    }
   ],
   "source": [
    "pd.Series(heights)"
   ]
  },
  {
   "cell_type": "code",
   "execution_count": 17,
   "id": "880afef3",
   "metadata": {
    "scrolled": true
   },
   "outputs": [
    {
     "data": {
      "text/plain": [
       "0    180.2\n",
       "1    178.5\n",
       "2    156.3\n",
       "dtype: object"
      ]
     },
     "execution_count": 17,
     "metadata": {},
     "output_type": "execute_result"
    }
   ],
   "source": [
    "# from NumPy -> if one of the value is object, pandas will keep the data with index in the memory\n",
    "heights_2 = [180.2, '178.5', 156.3]\n",
    "pd.Series(heights_2)"
   ]
  },
  {
   "cell_type": "markdown",
   "id": "f0a2abf4",
   "metadata": {},
   "source": [
    "### Lecture 5 - Index and RangeIndex"
   ]
  },
  {
   "cell_type": "code",
   "execution_count": 18,
   "id": "333ca205",
   "metadata": {
    "scrolled": true
   },
   "outputs": [
    {
     "data": {
      "text/plain": [
       "first_book     book_1\n",
       "second_book    book_2\n",
       "third_book     book_3\n",
       "dtype: object"
      ]
     },
     "execution_count": 18,
     "metadata": {},
     "output_type": "execute_result"
    }
   ],
   "source": [
    "pd.Series(data=book_list, index=['first_book', 'second_book', 'third_book'])"
   ]
  },
  {
   "cell_type": "code",
   "execution_count": 19,
   "id": "c795148d",
   "metadata": {},
   "outputs": [
    {
     "data": {
      "text/plain": [
       "'1.3.2'"
      ]
     },
     "execution_count": 19,
     "metadata": {},
     "output_type": "execute_result"
    }
   ],
   "source": [
    "pd.__version__"
   ]
  },
  {
   "cell_type": "code",
   "execution_count": 20,
   "id": "56384e5e",
   "metadata": {
    "scrolled": true
   },
   "outputs": [
    {
     "data": {
      "text/plain": [
       "first_book     book_1\n",
       "second_book    book_2\n",
       "third_book     book_3\n",
       "dtype: string"
      ]
     },
     "execution_count": 20,
     "metadata": {},
     "output_type": "execute_result"
    }
   ],
   "source": [
    "# After version 1.0.0, pandas has string dtype\n",
    "pd.Series(data=book_list, index=['first_book', 'second_book', 'third_book'], dtype='string')"
   ]
  },
  {
   "cell_type": "code",
   "execution_count": 21,
   "id": "857d9fcc",
   "metadata": {
    "scrolled": true
   },
   "outputs": [
    {
     "data": {
      "text/plain": [
       "RangeIndex(start=0, stop=3, step=1)"
      ]
     },
     "execution_count": 21,
     "metadata": {},
     "output_type": "execute_result"
    }
   ],
   "source": [
    "list_s.index\n",
    "# its a range index"
   ]
  },
  {
   "cell_type": "code",
   "execution_count": 22,
   "id": "b7e51427",
   "metadata": {
    "scrolled": true
   },
   "outputs": [
    {
     "data": {
      "text/plain": [
       "pandas.core.indexes.range.RangeIndex"
      ]
     },
     "execution_count": 22,
     "metadata": {},
     "output_type": "execute_result"
    }
   ],
   "source": [
    "type(list_s.index)"
   ]
  },
  {
   "cell_type": "code",
   "execution_count": 23,
   "id": "6c968ddb",
   "metadata": {
    "scrolled": true
   },
   "outputs": [
    {
     "data": {
      "text/plain": [
       "[5, 8, 11, 14]"
      ]
     },
     "execution_count": 23,
     "metadata": {},
     "output_type": "execute_result"
    }
   ],
   "source": [
    "# lets create our own range of indexes\n",
    "pd.RangeIndex(start=5, stop=15, step=3)\n",
    "# must cast to list to see the result\n",
    "list(pd.RangeIndex(start=5, stop=15, step=3))"
   ]
  },
  {
   "cell_type": "code",
   "execution_count": 24,
   "id": "b221c2da",
   "metadata": {
    "scrolled": true
   },
   "outputs": [
    {
     "data": {
      "text/plain": [
       "[10, 9, 8, 7, 6, 5, 4, 3, 2, 1, 0, -1, -2, -3, -4, -5, -6, -7, -8, -9, -10]"
      ]
     },
     "execution_count": 24,
     "metadata": {},
     "output_type": "execute_result"
    }
   ],
   "source": [
    "# start is inclusive, but stop is exclusive\n",
    "list(pd.RangeIndex(start=10, stop=-11, step=-1))"
   ]
  },
  {
   "cell_type": "markdown",
   "id": "dc25a605",
   "metadata": {},
   "source": [
    "### Lecture 6 - Series and Index Names"
   ]
  },
  {
   "cell_type": "code",
   "execution_count": 25,
   "id": "6e66ba00",
   "metadata": {
    "scrolled": true
   },
   "outputs": [
    {
     "data": {
      "text/plain": [
       "0    book_1\n",
       "1    book_2\n",
       "2    book_3\n",
       "dtype: object"
      ]
     },
     "execution_count": 25,
     "metadata": {},
     "output_type": "execute_result"
    }
   ],
   "source": [
    "#inetilligble -> capable of being understood\n",
    "book_series = list_s\n",
    "book_series"
   ]
  },
  {
   "cell_type": "code",
   "execution_count": 26,
   "id": "745cd3db",
   "metadata": {},
   "outputs": [
    {
     "data": {
      "text/plain": [
       "True"
      ]
     },
     "execution_count": 26,
     "metadata": {},
     "output_type": "execute_result"
    }
   ],
   "source": [
    "# method is a function bound to the object\n",
    "list_s.equals(dict_s)"
   ]
  },
  {
   "cell_type": "code",
   "execution_count": 27,
   "id": "23c58872",
   "metadata": {
    "scrolled": true
   },
   "outputs": [
    {
     "data": {
      "text/plain": [
       "3"
      ]
     },
     "execution_count": 27,
     "metadata": {},
     "output_type": "execute_result"
    }
   ],
   "source": [
    "# attribute is a varible bound to the object\n",
    "book_series.size"
   ]
  },
  {
   "cell_type": "code",
   "execution_count": 28,
   "id": "1532032a",
   "metadata": {},
   "outputs": [],
   "source": [
    "# the name attribute is pointing to None obj\n",
    "book_series.name"
   ]
  },
  {
   "cell_type": "code",
   "execution_count": 29,
   "id": "a06d22bf",
   "metadata": {
    "scrolled": true
   },
   "outputs": [
    {
     "data": {
      "text/plain": [
       "True"
      ]
     },
     "execution_count": 29,
     "metadata": {},
     "output_type": "execute_result"
    }
   ],
   "source": [
    "# if it comapre to None ...\n",
    "book_series.name == None"
   ]
  },
  {
   "cell_type": "code",
   "execution_count": 30,
   "id": "4f64dcba",
   "metadata": {
    "scrolled": true
   },
   "outputs": [
    {
     "data": {
      "text/plain": [
       "0    book_1\n",
       "1    book_2\n",
       "2    book_3\n",
       "Name: my books, dtype: object"
      ]
     },
     "execution_count": 30,
     "metadata": {},
     "output_type": "execute_result"
    }
   ],
   "source": [
    "# we could give it a name\n",
    "book_series.name = 'my books'\n",
    "book_series\n",
    "# after we learn about dataFrame, we will see that the name of the Series will come ...\n",
    "# with the name of the column of the dataFrame"
   ]
  },
  {
   "cell_type": "code",
   "execution_count": 31,
   "id": "ec852bd5",
   "metadata": {},
   "outputs": [
    {
     "data": {
      "text/plain": [
       "True"
      ]
     },
     "execution_count": 31,
     "metadata": {},
     "output_type": "execute_result"
    }
   ],
   "source": [
    "# the same is with the indexes of the Series\n",
    "book_series.index.name == None"
   ]
  },
  {
   "cell_type": "code",
   "execution_count": 32,
   "id": "c67f5948",
   "metadata": {
    "scrolled": true
   },
   "outputs": [
    {
     "data": {
      "text/plain": [
       "index names\n",
       "0    book_1\n",
       "1    book_2\n",
       "2    book_3\n",
       "Name: my books, dtype: object"
      ]
     },
     "execution_count": 32,
     "metadata": {},
     "output_type": "execute_result"
    }
   ],
   "source": [
    "book_series.index.name = 'index names'\n",
    "book_series"
   ]
  },
  {
   "cell_type": "markdown",
   "id": "a48b8979",
   "metadata": {},
   "source": [
    "### Lecture 7 - Skill Challenge"
   ]
  },
  {
   "cell_type": "code",
   "execution_count": 33,
   "id": "711db4da",
   "metadata": {},
   "outputs": [
    {
     "data": {
      "text/plain": [
       "Actor1    25\n",
       "Actor2    35\n",
       "Actor3    45\n",
       "Actor4    55\n",
       "dtype: int64"
      ]
     },
     "execution_count": 33,
     "metadata": {},
     "output_type": "execute_result"
    }
   ],
   "source": [
    "# 1. Python list with len=4 with favorite actors\n",
    "actor_names = ['Actor1', 'Actor2', 'Actor3', 'Actor4',]\n",
    "# 2. Python list with len=4 with actors ages\n",
    "actor_ages = [25, 35, 45, 55]\n",
    "# 3. Series that stores actor ages and for index (labels) are useing actor names\n",
    "actor_series = pd.Series(data=actor_ages, index=actor_names)\n",
    "actor_series"
   ]
  },
  {
   "cell_type": "code",
   "execution_count": 34,
   "id": "1c530ead",
   "metadata": {},
   "outputs": [
    {
     "data": {
      "text/plain": [
       "Actor1    25\n",
       "Actor2    35\n",
       "Actor3    45\n",
       "Actor4    55\n",
       "dtype: int64"
      ]
     },
     "execution_count": 34,
     "metadata": {},
     "output_type": "execute_result"
    }
   ],
   "source": [
    "# 4. Repeat p.3 but with python dict. Try to not write the dict by hand, but dynamically\n",
    "# 1st var -> using zip (the keys are indexes, and vals are values)\n",
    "actor_dict_1 = dict(zip(actor_names, actor_ages))\n",
    "actor_series_dict_1 = pd.Series(actor_dict_1)\n",
    "actor_series_dict_1"
   ]
  },
  {
   "cell_type": "code",
   "execution_count": 35,
   "id": "b2bb4cee",
   "metadata": {
    "scrolled": true
   },
   "outputs": [
    {
     "data": {
      "text/plain": [
       "Actor1    25\n",
       "Actor2    35\n",
       "Actor3    45\n",
       "Actor4    55\n",
       "dtype: int64"
      ]
     },
     "execution_count": 35,
     "metadata": {},
     "output_type": "execute_result"
    }
   ],
   "source": [
    "# 4.\n",
    "# 2st var -> using dict comprehension\n",
    "# actor_dict_2 = {actor_names[i]: actor_ages[i] for i in range(len(actor_names))}\n",
    "actor_dict_2 = {name: age for name, age in zip(actor_names, actor_ages)}\n",
    "actor_series_dict_2 = pd.Series(actor_dict_2)\n",
    "actor_series_dict_2"
   ]
  },
  {
   "cell_type": "markdown",
   "id": "4e2cbd2b",
   "metadata": {},
   "source": [
    "### Lecture 8 - The head() and tail() methods"
   ]
  },
  {
   "cell_type": "code",
   "execution_count": 36,
   "id": "f45cc234",
   "metadata": {
    "scrolled": true
   },
   "outputs": [
    {
     "data": {
      "text/plain": [
       "0          0\n",
       "1          1\n",
       "2          2\n",
       "3          3\n",
       "4          4\n",
       "        ... \n",
       "9995    9995\n",
       "9996    9996\n",
       "9997    9997\n",
       "9998    9998\n",
       "9999    9999\n",
       "Length: 10000, dtype: int64"
      ]
     },
     "execution_count": 36,
     "metadata": {},
     "output_type": "execute_result"
    }
   ],
   "source": [
    "int_series = pd.Series(i for i in range(10000))\n",
    "int_series"
   ]
  },
  {
   "cell_type": "code",
   "execution_count": 37,
   "id": "3fb6c21b",
   "metadata": {
    "scrolled": true
   },
   "outputs": [
    {
     "data": {
      "text/plain": [
       "0          0\n",
       "1          1\n",
       "2          2\n",
       "3          3\n",
       "4          4\n",
       "        ... \n",
       "9995    9995\n",
       "9996    9996\n",
       "9997    9997\n",
       "9998    9998\n",
       "9999    9999\n",
       "Length: 10000, dtype: int64"
      ]
     },
     "execution_count": 37,
     "metadata": {},
     "output_type": "execute_result"
    }
   ],
   "source": [
    "# it can be done only with range\n",
    "int_series_2 = pd.Series(range(10000))\n",
    "int_series_2"
   ]
  },
  {
   "cell_type": "code",
   "execution_count": 38,
   "id": "f7ba74b2",
   "metadata": {
    "scrolled": true
   },
   "outputs": [
    {
     "data": {
      "text/plain": [
       "0    0\n",
       "1    1\n",
       "2    2\n",
       "3    3\n",
       "4    4\n",
       "dtype: int64"
      ]
     },
     "execution_count": 38,
     "metadata": {},
     "output_type": "execute_result"
    }
   ],
   "source": [
    "# to see the first 5 rows\n",
    "int_series.head()"
   ]
  },
  {
   "cell_type": "code",
   "execution_count": 39,
   "id": "66ea2eaf",
   "metadata": {
    "scrolled": true
   },
   "outputs": [
    {
     "data": {
      "text/plain": [
       "0    0\n",
       "1    1\n",
       "2    2\n",
       "dtype: int64"
      ]
     },
     "execution_count": 39,
     "metadata": {},
     "output_type": "execute_result"
    }
   ],
   "source": [
    "# if you want to see certian number of first rows\n",
    "int_series.head(3)"
   ]
  },
  {
   "cell_type": "code",
   "execution_count": 40,
   "id": "7c81b97d",
   "metadata": {},
   "outputs": [
    {
     "data": {
      "text/plain": [
       "9995    9995\n",
       "9996    9996\n",
       "9997    9997\n",
       "9998    9998\n",
       "9999    9999\n",
       "dtype: int64"
      ]
     },
     "execution_count": 40,
     "metadata": {},
     "output_type": "execute_result"
    }
   ],
   "source": [
    "# to see the last five rows\n",
    "int_series_2.tail()"
   ]
  },
  {
   "cell_type": "code",
   "execution_count": 41,
   "id": "5caed896",
   "metadata": {
    "scrolled": true
   },
   "outputs": [
    {
     "data": {
      "text/plain": [
       "9997    9997\n",
       "9998    9998\n",
       "9999    9999\n",
       "dtype: int64"
      ]
     },
     "execution_count": 41,
     "metadata": {},
     "output_type": "execute_result"
    }
   ],
   "source": [
    "# if you want to see the certian number of last rows\n",
    "int_series_2.tail(3)"
   ]
  },
  {
   "cell_type": "code",
   "execution_count": 42,
   "id": "f82e84ef",
   "metadata": {},
   "outputs": [],
   "source": [
    "# we can use options to desplay certian rows, but its not useful\n",
    "# pd.options.display.min_rows = 20"
   ]
  },
  {
   "cell_type": "markdown",
   "id": "30dd91f9",
   "metadata": {},
   "source": [
    "### Lecture 9 - Extracting by Index Position"
   ]
  },
  {
   "cell_type": "code",
   "execution_count": 43,
   "id": "6804edf2",
   "metadata": {
    "scrolled": true
   },
   "outputs": [
    {
     "data": {
      "text/plain": [
       "26"
      ]
     },
     "execution_count": 43,
     "metadata": {},
     "output_type": "execute_result"
    }
   ],
   "source": [
    "letters = list(ascii_lowercase)\n",
    "len(letters)"
   ]
  },
  {
   "cell_type": "code",
   "execution_count": 44,
   "id": "a3586525",
   "metadata": {},
   "outputs": [
    {
     "data": {
      "text/plain": [
       "0    a\n",
       "1    b\n",
       "2    c\n",
       "3    d\n",
       "4    e\n",
       "dtype: object"
      ]
     },
     "execution_count": 44,
     "metadata": {},
     "output_type": "execute_result"
    }
   ],
   "source": [
    "alphabet = pd.Series(letters)\n",
    "alphabet.head()"
   ]
  },
  {
   "cell_type": "code",
   "execution_count": 45,
   "id": "4bfa088e",
   "metadata": {},
   "outputs": [
    {
     "data": {
      "text/plain": [
       "'a'"
      ]
     },
     "execution_count": 45,
     "metadata": {},
     "output_type": "execute_result"
    }
   ],
   "source": [
    "# what is the first letter?\n",
    "alphabet[0]"
   ]
  },
  {
   "cell_type": "code",
   "execution_count": 46,
   "id": "e1e4cc03",
   "metadata": {},
   "outputs": [
    {
     "data": {
      "text/plain": [
       "'k'"
      ]
     },
     "execution_count": 46,
     "metadata": {},
     "output_type": "execute_result"
    }
   ],
   "source": [
    "# what is the 11th letter?\n",
    "alphabet[10]"
   ]
  },
  {
   "cell_type": "code",
   "execution_count": 47,
   "id": "f6bb5458",
   "metadata": {},
   "outputs": [
    {
     "data": {
      "text/plain": [
       "0    a\n",
       "1    b\n",
       "2    c\n",
       "dtype: object"
      ]
     },
     "execution_count": 47,
     "metadata": {},
     "output_type": "execute_result"
    }
   ],
   "source": [
    "# what are the first 3 letters?\n",
    "# not inclusive!!!\n",
    "alphabet[:3]"
   ]
  },
  {
   "cell_type": "code",
   "execution_count": 48,
   "id": "d2c2d9ae",
   "metadata": {},
   "outputs": [
    {
     "data": {
      "text/plain": [
       "5    f\n",
       "6    g\n",
       "7    h\n",
       "8    i\n",
       "9    j\n",
       "dtype: object"
      ]
     },
     "execution_count": 48,
     "metadata": {},
     "output_type": "execute_result"
    }
   ],
   "source": [
    "# what are the letters from 6 to 10\n",
    "alphabet[5:10]"
   ]
  },
  {
   "cell_type": "code",
   "execution_count": 49,
   "id": "a1c67c6f",
   "metadata": {
    "scrolled": false
   },
   "outputs": [
    {
     "data": {
      "text/plain": [
       "20    u\n",
       "21    v\n",
       "22    w\n",
       "23    x\n",
       "24    y\n",
       "25    z\n",
       "dtype: object"
      ]
     },
     "execution_count": 49,
     "metadata": {},
     "output_type": "execute_result"
    }
   ],
   "source": [
    "# what are the last 6 letters?\n",
    "alphabet[-6:]"
   ]
  },
  {
   "cell_type": "markdown",
   "id": "b11e7753",
   "metadata": {},
   "source": [
    "### Lecture 10 - Accessing Elements by Label"
   ]
  },
  {
   "cell_type": "code",
   "execution_count": 50,
   "id": "7518dd46",
   "metadata": {},
   "outputs": [
    {
     "data": {
      "text/plain": [
       "label_A    a\n",
       "label_B    b\n",
       "label_C    c\n",
       "dtype: object"
      ]
     },
     "execution_count": 50,
     "metadata": {},
     "output_type": "execute_result"
    }
   ],
   "source": [
    "label_alphabet = pd.Series(data=list(ascii_lowercase), index=map(lambda x: 'label_' + x, list(ascii_uppercase)))\n",
    "label_alphabet.head(3)"
   ]
  },
  {
   "cell_type": "code",
   "execution_count": 51,
   "id": "0ae8d4b1",
   "metadata": {},
   "outputs": [
    {
     "data": {
      "text/plain": [
       "'a'"
      ]
     },
     "execution_count": 51,
     "metadata": {},
     "output_type": "execute_result"
    }
   ],
   "source": [
    "# what is the first letter?\n",
    "# var 1\n",
    "label_alphabet['label_A']"
   ]
  },
  {
   "cell_type": "code",
   "execution_count": 52,
   "id": "3e962852",
   "metadata": {},
   "outputs": [
    {
     "data": {
      "text/plain": [
       "'a'"
      ]
     },
     "execution_count": 52,
     "metadata": {},
     "output_type": "execute_result"
    }
   ],
   "source": [
    "# what is the first letter?\n",
    "# var 2 -> if the name is ok for that\n",
    "label_alphabet.label_A"
   ]
  },
  {
   "cell_type": "code",
   "execution_count": 53,
   "id": "34e8bfdc",
   "metadata": {},
   "outputs": [
    {
     "data": {
      "text/plain": [
       "'k'"
      ]
     },
     "execution_count": 53,
     "metadata": {},
     "output_type": "execute_result"
    }
   ],
   "source": [
    "# what is the 11th letter?\n",
    "label_alphabet['label_K']"
   ]
  },
  {
   "cell_type": "code",
   "execution_count": 54,
   "id": "d2489276",
   "metadata": {},
   "outputs": [
    {
     "data": {
      "text/plain": [
       "label_A    a\n",
       "label_B    b\n",
       "label_C    c\n",
       "dtype: object"
      ]
     },
     "execution_count": 54,
     "metadata": {},
     "output_type": "execute_result"
    }
   ],
   "source": [
    "# what are the first 3 letters?\n",
    "# inclusive!!!\n",
    "label_alphabet[:'label_C']"
   ]
  },
  {
   "cell_type": "code",
   "execution_count": 55,
   "id": "09941d29",
   "metadata": {},
   "outputs": [
    {
     "data": {
      "text/plain": [
       "label_F    f\n",
       "label_G    g\n",
       "label_H    h\n",
       "label_I    i\n",
       "label_J    j\n",
       "dtype: object"
      ]
     },
     "execution_count": 55,
     "metadata": {},
     "output_type": "execute_result"
    }
   ],
   "source": [
    "# what are the letters from 6 to 10\n",
    "label_alphabet['label_F':'label_J']"
   ]
  },
  {
   "cell_type": "code",
   "execution_count": 56,
   "id": "069183cb",
   "metadata": {
    "scrolled": true
   },
   "outputs": [
    {
     "data": {
      "text/plain": [
       "label_U    u\n",
       "label_V    v\n",
       "label_W    w\n",
       "label_X    x\n",
       "label_Y    y\n",
       "label_Z    z\n",
       "dtype: object"
      ]
     },
     "execution_count": 56,
     "metadata": {},
     "output_type": "execute_result"
    }
   ],
   "source": [
    "# what are the last 6 letters?\n",
    "label_alphabet['label_U':]"
   ]
  },
  {
   "cell_type": "markdown",
   "id": "90d61fea",
   "metadata": {},
   "source": [
    "### BONUS: The add_prefix() And add_suffix() Methods"
   ]
  },
  {
   "cell_type": "code",
   "execution_count": 57,
   "id": "a5f84e4a",
   "metadata": {},
   "outputs": [
    {
     "data": {
      "text/plain": [
       "label_0     a\n",
       "label_1     b\n",
       "label_2     c\n",
       "label_3     d\n",
       "label_4     e\n",
       "label_5     f\n",
       "label_6     g\n",
       "label_7     h\n",
       "label_8     i\n",
       "label_9     j\n",
       "label_10    k\n",
       "label_11    l\n",
       "label_12    m\n",
       "label_13    n\n",
       "label_14    o\n",
       "label_15    p\n",
       "label_16    q\n",
       "label_17    r\n",
       "label_18    s\n",
       "label_19    t\n",
       "label_20    u\n",
       "label_21    v\n",
       "label_22    w\n",
       "label_23    x\n",
       "label_24    y\n",
       "label_25    z\n",
       "dtype: object"
      ]
     },
     "execution_count": 57,
     "metadata": {},
     "output_type": "execute_result"
    }
   ],
   "source": [
    "# pandas has a build in method to make mapping (example with lambda from lecture 10 -> map(lambda x: 'label_ ...'))\n",
    "# add prefix (in the begining of the index(label))\n",
    "# if we want to keep the changes, we must reassign the original Series or DataFrame....\n",
    "# alphabet2 = alphabet.add_prefix('label_')\n",
    "alphabet.add_prefix('label_')"
   ]
  },
  {
   "cell_type": "code",
   "execution_count": 58,
   "id": "73f21e09",
   "metadata": {
    "scrolled": false
   },
   "outputs": [
    {
     "data": {
      "text/plain": [
       "0_label     a\n",
       "1_label     b\n",
       "2_label     c\n",
       "3_label     d\n",
       "4_label     e\n",
       "5_label     f\n",
       "6_label     g\n",
       "7_label     h\n",
       "8_label     i\n",
       "9_label     j\n",
       "10_label    k\n",
       "11_label    l\n",
       "12_label    m\n",
       "13_label    n\n",
       "14_label    o\n",
       "15_label    p\n",
       "16_label    q\n",
       "17_label    r\n",
       "18_label    s\n",
       "19_label    t\n",
       "20_label    u\n",
       "21_label    v\n",
       "22_label    w\n",
       "23_label    x\n",
       "24_label    y\n",
       "25_label    z\n",
       "dtype: object"
      ]
     },
     "execution_count": 58,
     "metadata": {},
     "output_type": "execute_result"
    }
   ],
   "source": [
    "# add suffix (in the end of the index(label))\n",
    "alphabet.add_suffix('_label')"
   ]
  },
  {
   "cell_type": "markdown",
   "id": "0e0825d6",
   "metadata": {},
   "source": [
    "###  Lecture 11 - Using Dot Notation"
   ]
  },
  {
   "cell_type": "code",
   "execution_count": 59,
   "id": "a157692d",
   "metadata": {},
   "outputs": [
    {
     "data": {
      "text/plain": [
       "'a'"
      ]
     },
     "execution_count": 59,
     "metadata": {},
     "output_type": "execute_result"
    }
   ],
   "source": [
    "# if the index name allows (its continous 'label_A', not split 'label A' ), we can call it like attribute\n",
    "label_alphabet.label_A"
   ]
  },
  {
   "cell_type": "markdown",
   "id": "17ec034a",
   "metadata": {},
   "source": [
    "### Lecture 12 - Boolean Masks And The .loc Indexer"
   ]
  },
  {
   "cell_type": "code",
   "execution_count": 60,
   "id": "82dfc909",
   "metadata": {},
   "outputs": [
    {
     "data": {
      "text/plain": [
       "label_F    f\n",
       "label_G    g\n",
       "label_H    h\n",
       "label_I    i\n",
       "label_J    j\n",
       "dtype: object"
      ]
     },
     "execution_count": 60,
     "metadata": {},
     "output_type": "execute_result"
    }
   ],
   "source": [
    "# loc -> location, indexing by label\n",
    "# for now is enougth to know that loc is faster then slicing. We use it more with DataFrames\n",
    "label_alphabet.loc['label_F':'label_J']"
   ]
  },
  {
   "cell_type": "code",
   "execution_count": 61,
   "id": "5ae02de0",
   "metadata": {},
   "outputs": [
    {
     "data": {
      "text/plain": [
       "index names\n",
       "0    book_1\n",
       "1    book_2\n",
       "2    book_3\n",
       "Name: my books, dtype: object"
      ]
     },
     "execution_count": 61,
     "metadata": {},
     "output_type": "execute_result"
    }
   ],
   "source": [
    "# boolean mask length must be equal to the Series length or we will get index err\n",
    "book_series.loc[[True, True, True]]"
   ]
  },
  {
   "cell_type": "code",
   "execution_count": 62,
   "id": "72a775d2",
   "metadata": {
    "scrolled": true
   },
   "outputs": [
    {
     "data": {
      "text/plain": [
       "index names\n",
       "0    book_1\n",
       "2    book_3\n",
       "Name: my books, dtype: object"
      ]
     },
     "execution_count": 62,
     "metadata": {},
     "output_type": "execute_result"
    }
   ],
   "source": [
    "book_series.loc[[True, False, True]]"
   ]
  },
  {
   "cell_type": "code",
   "execution_count": 63,
   "id": "a0a64e9b",
   "metadata": {},
   "outputs": [
    {
     "data": {
      "text/plain": [
       "0     a\n",
       "1     b\n",
       "2     c\n",
       "3     d\n",
       "4     e\n",
       "5     f\n",
       "6     g\n",
       "7     h\n",
       "8     i\n",
       "9     j\n",
       "10    k\n",
       "11    l\n",
       "12    m\n",
       "13    n\n",
       "14    o\n",
       "15    p\n",
       "16    q\n",
       "17    r\n",
       "18    s\n",
       "19    t\n",
       "20    u\n",
       "21    v\n",
       "22    w\n",
       "23    x\n",
       "24    y\n",
       "25    z\n",
       "dtype: object"
      ]
     },
     "execution_count": 63,
     "metadata": {},
     "output_type": "execute_result"
    }
   ],
   "source": [
    "# the normal case is not write True or False for a big Series, but make it dynamic\n",
    "alphabet.loc[[True for _ in range(len(alphabet))]]"
   ]
  },
  {
   "cell_type": "code",
   "execution_count": 64,
   "id": "4b9988f2",
   "metadata": {
    "scrolled": true
   },
   "outputs": [
    {
     "data": {
      "text/plain": [
       "0     a\n",
       "2     c\n",
       "4     e\n",
       "6     g\n",
       "8     i\n",
       "10    k\n",
       "12    m\n",
       "14    o\n",
       "16    q\n",
       "18    s\n",
       "20    u\n",
       "22    w\n",
       "24    y\n",
       "dtype: object"
      ]
     },
     "execution_count": 64,
     "metadata": {},
     "output_type": "execute_result"
    }
   ],
   "source": [
    "alphabet.loc[[True if i % 2 == 0 else False for i in range(len(alphabet))]]"
   ]
  },
  {
   "cell_type": "markdown",
   "id": "212dcf85",
   "metadata": {},
   "source": [
    "### Lecture 13 - Extracting By Position With .iloc"
   ]
  },
  {
   "cell_type": "code",
   "execution_count": 65,
   "id": "626d35ed",
   "metadata": {},
   "outputs": [
    {
     "data": {
      "text/plain": [
       "'a'"
      ]
     },
     "execution_count": 65,
     "metadata": {},
     "output_type": "execute_result"
    }
   ],
   "source": [
    "# iloc -> int location, indexing by position\n",
    "label_alphabet.iloc[0]"
   ]
  },
  {
   "cell_type": "code",
   "execution_count": 66,
   "id": "9b0923b3",
   "metadata": {},
   "outputs": [
    {
     "data": {
      "text/plain": [
       "label_B    b\n",
       "label_C    c\n",
       "dtype: object"
      ]
     },
     "execution_count": 66,
     "metadata": {},
     "output_type": "execute_result"
    }
   ],
   "source": [
    "# by slicing\n",
    "label_alphabet.iloc[1:3]"
   ]
  },
  {
   "cell_type": "code",
   "execution_count": 67,
   "id": "8758d4e0",
   "metadata": {},
   "outputs": [
    {
     "data": {
      "text/plain": [
       "label_B    b\n",
       "label_H    h\n",
       "label_M    m\n",
       "dtype: object"
      ]
     },
     "execution_count": 67,
     "metadata": {},
     "output_type": "execute_result"
    }
   ],
   "source": [
    "# by collection (list)\n",
    "label_alphabet.iloc[[1, 7, 12]]"
   ]
  },
  {
   "cell_type": "markdown",
   "id": "e74bbfa9",
   "metadata": {},
   "source": [
    "### BONUS: Using Callables With .loc And .iloc"
   ]
  },
  {
   "cell_type": "code",
   "execution_count": 68,
   "id": "8a927556",
   "metadata": {},
   "outputs": [
    {
     "data": {
      "text/plain": [
       "'a'"
      ]
     },
     "execution_count": 68,
     "metadata": {},
     "output_type": "execute_result"
    }
   ],
   "source": [
    "label_alphabet.loc[lambda x: 'label_A']"
   ]
  },
  {
   "cell_type": "code",
   "execution_count": 69,
   "id": "beb4df95",
   "metadata": {},
   "outputs": [
    {
     "data": {
      "text/plain": [
       "label_A    a\n",
       "label_B    b\n",
       "dtype: object"
      ]
     },
     "execution_count": 69,
     "metadata": {},
     "output_type": "execute_result"
    }
   ],
   "source": [
    "label_alphabet.loc[lambda x: ['label_A', 'label_B']]"
   ]
  },
  {
   "cell_type": "code",
   "execution_count": 70,
   "id": "ebe1f070",
   "metadata": {},
   "outputs": [
    {
     "data": {
      "text/plain": [
       "label_A    a\n",
       "label_B    b\n",
       "label_C    c\n",
       "label_D    d\n",
       "label_E    e\n",
       "label_F    f\n",
       "label_G    g\n",
       "label_H    h\n",
       "label_I    i\n",
       "label_J    j\n",
       "label_K    k\n",
       "label_L    l\n",
       "label_M    m\n",
       "label_N    n\n",
       "label_O    o\n",
       "label_P    p\n",
       "label_Q    q\n",
       "label_R    r\n",
       "label_S    s\n",
       "label_T    t\n",
       "label_U    u\n",
       "label_V    v\n",
       "label_W    w\n",
       "label_X    x\n",
       "label_Y    y\n",
       "label_Z    z\n",
       "dtype: object"
      ]
     },
     "execution_count": 70,
     "metadata": {},
     "output_type": "execute_result"
    }
   ],
   "source": [
    "label_alphabet.loc[lambda x: [True for _ in range(x.size)]]"
   ]
  },
  {
   "cell_type": "code",
   "execution_count": 71,
   "id": "eba60852",
   "metadata": {},
   "outputs": [],
   "source": [
    "def every_fifth_letter(letters):\n",
    "    return [True if (i+1) % 5 == 0 else False for i in range(letters.size)]"
   ]
  },
  {
   "cell_type": "code",
   "execution_count": 72,
   "id": "5e11d0d4",
   "metadata": {
    "scrolled": true
   },
   "outputs": [
    {
     "data": {
      "text/plain": [
       "label_E    e\n",
       "label_J    j\n",
       "label_O    o\n",
       "label_T    t\n",
       "label_Y    y\n",
       "dtype: object"
      ]
     },
     "execution_count": 72,
     "metadata": {},
     "output_type": "execute_result"
    }
   ],
   "source": [
    "label_alphabet.iloc[every_fifth_letter(label_alphabet)]"
   ]
  },
  {
   "cell_type": "markdown",
   "id": "d0e340a7",
   "metadata": {},
   "source": [
    "### Lecture 14 -Selecting With .get()"
   ]
  },
  {
   "cell_type": "code",
   "execution_count": 73,
   "id": "1e9b2f08",
   "metadata": {},
   "outputs": [
    {
     "data": {
      "text/plain": [
       "'a'"
      ]
     },
     "execution_count": 73,
     "metadata": {},
     "output_type": "execute_result"
    }
   ],
   "source": [
    "# get is very similar to loc and square brackets indexing\n",
    "label_alphabet.get('label_A')"
   ]
  },
  {
   "cell_type": "code",
   "execution_count": 74,
   "id": "829af305",
   "metadata": {},
   "outputs": [
    {
     "data": {
      "text/plain": [
       "True"
      ]
     },
     "execution_count": 74,
     "metadata": {},
     "output_type": "execute_result"
    }
   ],
   "source": [
    "# if we pass non existing label, get will return None (loc and [] will get an err)\n",
    "label_alphabet.get('label_not_exsting') == None"
   ]
  },
  {
   "cell_type": "code",
   "execution_count": 75,
   "id": "8021c390",
   "metadata": {},
   "outputs": [
    {
     "data": {
      "text/plain": [
       "'Could not find that label'"
      ]
     },
     "execution_count": 75,
     "metadata": {},
     "output_type": "execute_result"
    }
   ],
   "source": [
    "# the reason of that is couse get() has an attribute called default and its None by default\n",
    "# we can pass some value (obj) if we want to return something else\n",
    "label_alphabet.get('label_not_exsiting', default='Could not find that label')"
   ]
  },
  {
   "cell_type": "code",
   "execution_count": 76,
   "id": "a7ff475f",
   "metadata": {},
   "outputs": [
    {
     "data": {
      "text/plain": [
       "25"
      ]
     },
     "execution_count": 76,
     "metadata": {},
     "output_type": "execute_result"
    }
   ],
   "source": [
    "label_alphabet.get('label_not_exsiting', default=25)"
   ]
  },
  {
   "cell_type": "code",
   "execution_count": 77,
   "id": "46ea5e04",
   "metadata": {},
   "outputs": [
    {
     "data": {
      "text/plain": [
       "[1, 2.5, True, 'Hello']"
      ]
     },
     "execution_count": 77,
     "metadata": {},
     "output_type": "execute_result"
    }
   ],
   "source": [
    "label_alphabet.get('label_not_exsiting', default=[1, 2.5, True, 'Hello'])"
   ]
  },
  {
   "cell_type": "code",
   "execution_count": 78,
   "id": "80816223",
   "metadata": {},
   "outputs": [
    {
     "data": {
      "text/plain": [
       "{'a': 1}"
      ]
     },
     "execution_count": 78,
     "metadata": {},
     "output_type": "execute_result"
    }
   ],
   "source": [
    "label_alphabet.get('label_not_exsiting', default={'a': 1})"
   ]
  },
  {
   "cell_type": "code",
   "execution_count": 79,
   "id": "4c715a37",
   "metadata": {
    "scrolled": true
   },
   "outputs": [
    {
     "data": {
      "text/plain": [
       "'a'"
      ]
     },
     "execution_count": 79,
     "metadata": {},
     "output_type": "execute_result"
    }
   ],
   "source": [
    "# we can also pass position like we do it with iloc\n",
    "label_alphabet.get(0)"
   ]
  },
  {
   "cell_type": "markdown",
   "id": "0e2d0ddf",
   "metadata": {},
   "source": [
    "### Lecture 15 - Selection Recap"
   ]
  },
  {
   "cell_type": "code",
   "execution_count": 80,
   "id": "dea2186c",
   "metadata": {},
   "outputs": [],
   "source": [
    "# take a look at the pdf presentation to se all mathods for selecting by label or position"
   ]
  },
  {
   "cell_type": "markdown",
   "id": "a3359ffb",
   "metadata": {},
   "source": [
    "### Lecture 16 - Skill Challenge"
   ]
  },
  {
   "cell_type": "code",
   "execution_count": 81,
   "id": "c596898f",
   "metadata": {},
   "outputs": [
    {
     "data": {
      "text/plain": [
       "0        0\n",
       "1        1\n",
       "2        4\n",
       "3        9\n",
       "4       16\n",
       "      ... \n",
       "95    9025\n",
       "96    9216\n",
       "97    9409\n",
       "98    9604\n",
       "99    9801\n",
       "Length: 100, dtype: int64"
      ]
     },
     "execution_count": 81,
     "metadata": {},
     "output_type": "execute_result"
    }
   ],
   "source": [
    "# create a Series of length 100 containing the squares of integers from 0 to 99. Assign it to the variable squares\n",
    "square_s = pd.Series([num**2 for num in range(100)])\n",
    "square_s"
   ]
  },
  {
   "cell_type": "code",
   "execution_count": 82,
   "id": "0e7d432e",
   "metadata": {},
   "outputs": [
    {
     "data": {
      "text/plain": [
       "97    9409\n",
       "98    9604\n",
       "99    9801\n",
       "dtype: int64"
      ]
     },
     "execution_count": 82,
     "metadata": {},
     "output_type": "execute_result"
    }
   ],
   "source": [
    "# Extract last three items from the Series using [] idx'ing\n",
    "square_s[-3:]"
   ]
  },
  {
   "cell_type": "code",
   "execution_count": 83,
   "id": "525f3713",
   "metadata": {},
   "outputs": [
    {
     "data": {
      "text/plain": [
       "97    9409\n",
       "98    9604\n",
       "99    9801\n",
       "dtype: int64"
      ]
     },
     "execution_count": 83,
     "metadata": {},
     "output_type": "execute_result"
    }
   ],
   "source": [
    "# Repeat the step but this time use .tail() method\n",
    "square_s.tail(3)"
   ]
  },
  {
   "cell_type": "code",
   "execution_count": 84,
   "id": "d75e1713",
   "metadata": {},
   "outputs": [
    {
     "data": {
      "text/plain": [
       "True"
      ]
     },
     "execution_count": 84,
     "metadata": {},
     "output_type": "execute_result"
    }
   ],
   "source": [
    "# verify that the output from the extractions are the same using equals() method\n",
    "square_s.tail(3).equals(square_s[-3:])"
   ]
  }
 ],
 "metadata": {
  "kernelspec": {
   "display_name": "Python 3 (ipykernel)",
   "language": "python",
   "name": "python3"
  },
  "language_info": {
   "codemirror_mode": {
    "name": "ipython",
    "version": 3
   },
   "file_extension": ".py",
   "mimetype": "text/x-python",
   "name": "python",
   "nbconvert_exporter": "python",
   "pygments_lexer": "ipython3",
   "version": "3.8.10"
  }
 },
 "nbformat": 4,
 "nbformat_minor": 5
}
